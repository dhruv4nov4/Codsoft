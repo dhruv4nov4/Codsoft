{
  "nbformat": 4,
  "nbformat_minor": 0,
  "metadata": {
    "colab": {
      "provenance": []
    },
    "kernelspec": {
      "name": "python3",
      "display_name": "Python 3"
    },
    "language_info": {
      "name": "python"
    }
  },
  "cells": [
    {
      "cell_type": "code",
      "execution_count": 1,
      "metadata": {
        "colab": {
          "base_uri": "https://localhost:8080/"
        },
        "id": "zgBD5-06Ro_I",
        "outputId": "f20f8c8e-929d-4147-cc07-6d637949f2ae"
      },
      "outputs": [
        {
          "output_type": "stream",
          "name": "stdout",
          "text": [
            "Recommended Movies for User based on Preferences: Action\n",
            "Movie 1: Movie 4, Movie 5, Movie 3\n",
            "Movie 2: Movie 5, Movie 4, Movie 3\n",
            "Movie 3: Movie 4, Movie 5, Movie 2\n",
            "Movie 4: Movie 3, Movie 1, Movie 5\n",
            "Movie 5: Movie 2, Movie 4, Movie 3\n"
          ]
        }
      ],
      "source": [
        "import pandas as pd\n",
        "from sklearn.metrics.pairwise import cosine_similarity\n",
        "from sklearn.feature_extraction.text import TfidfVectorizer\n",
        "\n",
        "data = {\n",
        "    'Movie': ['Movie 1', 'Movie 2', 'Movie 3', 'Movie 4', 'Movie 5'],\n",
        "    'Genres': ['Action', 'Drama', 'Comedy', 'Action|Comedy', 'Drama|Romance']\n",
        "}\n",
        "\n",
        "df = pd.DataFrame(data)\n",
        "\n",
        "\n",
        "tfidf_vectorizer = TfidfVectorizer()\n",
        "tfidf_matrix = tfidf_vectorizer.fit_transform(df['Genres'])\n",
        "\n",
        "\n",
        "cosine_sim = cosine_similarity(tfidf_matrix, tfidf_matrix)\n",
        "\n",
        "def recommend_movies(user_preferences, num_recommendations=5):\n",
        "    recommended_movies = []\n",
        "    for idx, movie in enumerate(df['Movie']):\n",
        "\n",
        "        similarity_score = cosine_sim[idx]\n",
        "\n",
        "\n",
        "        similar_movies_indices = similarity_score.argsort()[::-1]\n",
        "\n",
        "\n",
        "        similar_movies_indices = [i for i in similar_movies_indices if i != idx]\n",
        "\n",
        "\n",
        "        top_similar_movies = df['Movie'].iloc[similar_movies_indices][:num_recommendations].tolist()\n",
        "        recommended_movies.append({\n",
        "            'Movie': movie,\n",
        "            'Recommendations': top_similar_movies\n",
        "        })\n",
        "\n",
        "    return recommended_movies\n",
        "\n",
        "\n",
        "user_preferences = ['Action']\n",
        "\n",
        "\n",
        "recommendations = recommend_movies(user_preferences, num_recommendations=3)\n",
        "\n",
        "print(f\"Recommended Movies for User based on Preferences: {user_preferences[0]}\")\n",
        "for recommendation in recommendations:\n",
        "    print(f\"{recommendation['Movie']}: {', '.join(recommendation['Recommendations'])}\")\n"
      ]
    }
  ]
}