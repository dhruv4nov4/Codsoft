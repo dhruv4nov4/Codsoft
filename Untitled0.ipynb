{
  "nbformat": 4,
  "nbformat_minor": 0,
  "metadata": {
    "colab": {
      "provenance": []
    },
    "kernelspec": {
      "name": "python3",
      "display_name": "Python 3"
    },
    "language_info": {
      "name": "python"
    }
  },
  "cells": [
    {
      "cell_type": "code",
      "execution_count": 1,
      "metadata": {
        "colab": {
          "base_uri": "https://localhost:8080/"
        },
        "id": "wrIHI2ogrxxw",
        "outputId": "c2882ca3-8a17-4191-fa2c-6059c0f7527a"
      },
      "outputs": [
        {
          "name": "stdout",
          "output_type": "stream",
          "text": [
            "Chatbot: Hello! How can I assist you today?\n",
            "You: hi\n",
            "Chatbot: Hey!\n",
            "You: weather\n",
            "Chatbot: The weather is cloudy today.\n",
            "You: bye\n"
          ]
        }
      ],
      "source": [
        "import random\n",
        "\n",
        "\n",
        "def get_greeting_response():\n",
        "    responses = [\"Hello!\", \"Hi there!\", \"Hey!\", \"Greetings!\"]\n",
        "    return random.choice(responses)\n",
        "\n",
        "\n",
        "def get_weather_response():\n",
        "    weather_conditions = [\"sunny\", \"cloudy\", \"rainy\", \"windy\"]\n",
        "    response = f\"The weather is {random.choice(weather_conditions)} today.\"\n",
        "    return response\n",
        "\n",
        "\n",
        "def chatbot():\n",
        "    print(\"Chatbot: Hello! How can I assist you today?\")\n",
        "\n",
        "    while True:\n",
        "        user_input = input(\"You: \").lower()\n",
        "\n",
        "        if \"hello\" in user_input or \"hi\" in user_input:\n",
        "            response = get_greeting_response()\n",
        "        elif \"weather\" in user_input:\n",
        "            response = get_weather_response()\n",
        "        elif \"bye\" in user_input or \"exit\" in user_input:\n",
        "            response = \"Chatbot: Goodbye! Have a great day.\"\n",
        "            break\n",
        "        else:\n",
        "            response = \"Chatbot: I'm not sure how to respond to that.\"\n",
        "\n",
        "        print(\"Chatbot:\", response)\n",
        "\n",
        "\n",
        "if __name__ == \"__main__\":\n",
        "    chatbot()\n"
      ]
    }
  ]
}